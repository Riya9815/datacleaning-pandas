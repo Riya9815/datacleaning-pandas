{
  "nbformat": 4,
  "nbformat_minor": 0,
  "metadata": {
    "colab": {
      "name": "exception handling assignment",
      "provenance": []
    },
    "kernelspec": {
      "name": "python3",
      "display_name": "Python 3"
    },
    "language_info": {
      "name": "python"
    }
  },
  "cells": [
    {
      "cell_type": "markdown",
      "metadata": {
        "id": "9QtlI5vlQMtx"
      },
      "source": [
        "# 1. Write a function to compute 5/0 and use try/except to catch the exceptions."
      ]
    },
    {
      "cell_type": "code",
      "metadata": {
        "colab": {
          "base_uri": "https://localhost:8080/"
        },
        "id": "IMRUZwdRPOBl",
        "outputId": "e2e84661-adaa-43af-a350-4e360ef3ef31"
      },
      "source": [
        "def div(a):\n",
        "    try:\n",
        "        return a/0\n",
        "    except ZeroDivisionError:\n",
        "        print('ERROR : division by zero ')\n",
        "\n",
        "div(5)\n"
      ],
      "execution_count": 1,
      "outputs": [
        {
          "output_type": "stream",
          "text": [
            "ERROR : division by zero \n"
          ],
          "name": "stdout"
        }
      ]
    },
    {
      "cell_type": "markdown",
      "metadata": {
        "id": "vRyyeubeQQYY"
      },
      "source": [
        "### 2. Implement a Python program to generate all sentences where subject is in[\"Americans\", \"Indians\"] and verb is in [\"Play\", \"watch\"] and the object is in[\"Baseball\",\"cricket\"].Hint: Subject,Verb and Object should be declared in the program as shown below.\n",
        "### subjects=[\"Americans \",\"Indians\"]\n",
        "### verbs=[\"play\",\"watch\"]\n",
        "### objects=[\"Baseball\",\"Cricket\"]"
      ]
    },
    {
      "cell_type": "code",
      "metadata": {
        "colab": {
          "base_uri": "https://localhost:8080/"
        },
        "id": "qnTudNBFPTqQ",
        "outputId": "7755b428-e435-42be-e68a-94bf1f0eb386"
      },
      "source": [
        "\n",
        "subjects=[\"Americans\",\"Indians\"]\n",
        "verbs=[\"play\",\"watch\"]\n",
        "objects=[\"Baseball\",\"Cricket\"]\n",
        "\n",
        "sentance_list = []\n",
        "for sub in subjects:\n",
        "    for ver in verbs:\n",
        "        for obj in objects:\n",
        "            sentance = sub +\" \" + ver + \" \"+ obj\n",
        "            sentance_list.append(sentance)\n",
        "print(sentance_list)"
      ],
      "execution_count": 2,
      "outputs": [
        {
          "output_type": "stream",
          "text": [
            "['Americans play Baseball', 'Americans play Cricket', 'Americans watch Baseball', 'Americans watch Cricket', 'Indians play Baseball', 'Indians play Cricket', 'Indians watch Baseball', 'Indians watch Cricket']\n"
          ],
          "name": "stdout"
        }
      ]
    },
    {
      "cell_type": "code",
      "metadata": {
        "id": "PSk5nbBQPY6b"
      },
      "source": [
        ""
      ],
      "execution_count": null,
      "outputs": []
    }
  ]
}